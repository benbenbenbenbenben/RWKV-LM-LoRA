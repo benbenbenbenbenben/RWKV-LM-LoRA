{
 "cells": [
  {
   "cell_type": "code",
   "execution_count": 25,
   "metadata": {
    "vscode": {
     "languageId": "shellscript"
    }
   },
   "outputs": [
    {
     "name": "stderr",
     "output_type": "stream",
     "text": [
      "952.09s - pydevd: Sending message related to process being replaced timed-out after 5 seconds\n"
     ]
    },
    {
     "name": "stdout",
     "output_type": "stream",
     "text": [
      "Defaulting to user installation because normal site-packages is not writeable\n",
      "Requirement already satisfied: pytorch-lightning==1.9.0 in /home/ben/.local/lib/python3.10/site-packages (1.9.0)\n",
      "Collecting deepspeed==0.8.3\n",
      "  Using cached deepspeed-0.8.3-py3-none-any.whl\n",
      "Requirement already satisfied: transformers in /home/ben/.local/lib/python3.10/site-packages (4.27.3)\n",
      "Requirement already satisfied: wandb in /home/ben/.local/lib/python3.10/site-packages (0.14.0)\n",
      "Requirement already satisfied: ninja in /home/ben/.local/lib/python3.10/site-packages (1.11.1)\n",
      "Requirement already satisfied: PyYAML>=5.4 in /usr/lib/python3/dist-packages (from pytorch-lightning==1.9.0) (5.4.1)\n",
      "Requirement already satisfied: typing-extensions>=4.0.0 in /home/ben/.local/lib/python3.10/site-packages (from pytorch-lightning==1.9.0) (4.5.0)\n",
      "Requirement already satisfied: torchmetrics>=0.7.0 in /home/ben/.local/lib/python3.10/site-packages (from pytorch-lightning==1.9.0) (0.11.4)\n",
      "Requirement already satisfied: packaging>=17.1 in /home/ben/.local/lib/python3.10/site-packages (from pytorch-lightning==1.9.0) (21.3)\n",
      "Requirement already satisfied: fsspec[http]>2021.06.0 in /home/ben/.local/lib/python3.10/site-packages (from pytorch-lightning==1.9.0) (2023.3.0)\n",
      "Requirement already satisfied: lightning-utilities>=0.4.2 in /home/ben/.local/lib/python3.10/site-packages (from pytorch-lightning==1.9.0) (0.8.0)\n",
      "Requirement already satisfied: numpy>=1.17.2 in /home/ben/.local/lib/python3.10/site-packages (from pytorch-lightning==1.9.0) (1.24.2)\n",
      "Requirement already satisfied: torch>=1.10.0 in /home/ben/.local/lib/python3.10/site-packages (from pytorch-lightning==1.9.0) (2.0.0)\n",
      "Requirement already satisfied: tqdm>=4.57.0 in /home/ben/.local/lib/python3.10/site-packages (from pytorch-lightning==1.9.0) (4.64.1)\n",
      "Requirement already satisfied: hjson in /home/ben/.local/lib/python3.10/site-packages (from deepspeed==0.8.3) (3.1.0)\n",
      "Requirement already satisfied: py-cpuinfo in /home/ben/.local/lib/python3.10/site-packages (from deepspeed==0.8.3) (9.0.0)\n",
      "Requirement already satisfied: psutil in /home/ben/.local/lib/python3.10/site-packages (from deepspeed==0.8.3) (5.9.2)\n",
      "Requirement already satisfied: pydantic in /home/ben/.local/lib/python3.10/site-packages (from deepspeed==0.8.3) (1.10.7)\n",
      "Requirement already satisfied: filelock in /home/ben/.local/lib/python3.10/site-packages (from transformers) (3.10.6)\n",
      "Requirement already satisfied: regex!=2019.12.17 in /home/ben/.local/lib/python3.10/site-packages (from transformers) (2023.3.23)\n",
      "Requirement already satisfied: requests in /usr/lib/python3/dist-packages (from transformers) (2.25.1)\n",
      "Requirement already satisfied: tokenizers!=0.11.3,<0.14,>=0.11.1 in /home/ben/.local/lib/python3.10/site-packages (from transformers) (0.13.2)\n",
      "Requirement already satisfied: huggingface-hub<1.0,>=0.11.0 in /home/ben/.local/lib/python3.10/site-packages (from transformers) (0.13.3)\n",
      "Requirement already satisfied: setuptools in /usr/lib/python3/dist-packages (from wandb) (59.6.0)\n",
      "Requirement already satisfied: docker-pycreds>=0.4.0 in /home/ben/.local/lib/python3.10/site-packages (from wandb) (0.4.0)\n",
      "Requirement already satisfied: setproctitle in /home/ben/.local/lib/python3.10/site-packages (from wandb) (1.3.2)\n",
      "Requirement already satisfied: appdirs>=1.4.3 in /home/ben/.local/lib/python3.10/site-packages (from wandb) (1.4.4)\n",
      "Requirement already satisfied: sentry-sdk>=1.0.0 in /home/ben/.local/lib/python3.10/site-packages (from wandb) (1.17.0)\n",
      "Requirement already satisfied: Click!=8.0.0,>=7.0 in /usr/lib/python3/dist-packages (from wandb) (8.0.3)\n",
      "Requirement already satisfied: protobuf!=4.21.0,<5,>=3.19.0 in /home/ben/.local/lib/python3.10/site-packages (from wandb) (4.22.1)\n",
      "Requirement already satisfied: pathtools in /home/ben/.local/lib/python3.10/site-packages (from wandb) (0.1.2)\n",
      "Requirement already satisfied: GitPython!=3.1.29,>=1.0.0 in /home/ben/.local/lib/python3.10/site-packages (from wandb) (3.1.31)\n",
      "Requirement already satisfied: six>=1.4.0 in /usr/lib/python3/dist-packages (from docker-pycreds>=0.4.0->wandb) (1.16.0)\n",
      "Requirement already satisfied: aiohttp!=4.0.0a0,!=4.0.0a1 in /home/ben/.local/lib/python3.10/site-packages (from fsspec[http]>2021.06.0->pytorch-lightning==1.9.0) (3.8.4)\n",
      "Requirement already satisfied: gitdb<5,>=4.0.1 in /home/ben/.local/lib/python3.10/site-packages (from GitPython!=3.1.29,>=1.0.0->wandb) (4.0.10)\n",
      "Requirement already satisfied: pyparsing!=3.0.5,>=2.0.2 in /usr/lib/python3/dist-packages (from packaging>=17.1->pytorch-lightning==1.9.0) (2.4.7)\n",
      "Requirement already satisfied: certifi in /usr/lib/python3/dist-packages (from sentry-sdk>=1.0.0->wandb) (2020.6.20)\n",
      "Requirement already satisfied: urllib3>=1.26.11 in /home/ben/.local/lib/python3.10/site-packages (from sentry-sdk>=1.0.0->wandb) (1.26.15)\n",
      "Requirement already satisfied: networkx in /home/ben/.local/lib/python3.10/site-packages (from torch>=1.10.0->pytorch-lightning==1.9.0) (3.0)\n",
      "Requirement already satisfied: nvidia-cusparse-cu11==11.7.4.91 in /home/ben/.local/lib/python3.10/site-packages (from torch>=1.10.0->pytorch-lightning==1.9.0) (11.7.4.91)\n",
      "Requirement already satisfied: nvidia-cuda-runtime-cu11==11.7.99 in /home/ben/.local/lib/python3.10/site-packages (from torch>=1.10.0->pytorch-lightning==1.9.0) (11.7.99)\n",
      "Requirement already satisfied: nvidia-cuda-cupti-cu11==11.7.101 in /home/ben/.local/lib/python3.10/site-packages (from torch>=1.10.0->pytorch-lightning==1.9.0) (11.7.101)\n",
      "Requirement already satisfied: sympy in /home/ben/.local/lib/python3.10/site-packages (from torch>=1.10.0->pytorch-lightning==1.9.0) (1.11.1)\n",
      "Requirement already satisfied: nvidia-nccl-cu11==2.14.3 in /home/ben/.local/lib/python3.10/site-packages (from torch>=1.10.0->pytorch-lightning==1.9.0) (2.14.3)\n",
      "Requirement already satisfied: jinja2 in /usr/lib/python3/dist-packages (from torch>=1.10.0->pytorch-lightning==1.9.0) (3.0.3)\n",
      "Requirement already satisfied: nvidia-cuda-nvrtc-cu11==11.7.99 in /home/ben/.local/lib/python3.10/site-packages (from torch>=1.10.0->pytorch-lightning==1.9.0) (11.7.99)\n",
      "Requirement already satisfied: nvidia-cudnn-cu11==8.5.0.96 in /home/ben/.local/lib/python3.10/site-packages (from torch>=1.10.0->pytorch-lightning==1.9.0) (8.5.0.96)\n",
      "Requirement already satisfied: nvidia-cufft-cu11==10.9.0.58 in /home/ben/.local/lib/python3.10/site-packages (from torch>=1.10.0->pytorch-lightning==1.9.0) (10.9.0.58)\n",
      "Requirement already satisfied: nvidia-cusolver-cu11==11.4.0.1 in /home/ben/.local/lib/python3.10/site-packages (from torch>=1.10.0->pytorch-lightning==1.9.0) (11.4.0.1)\n",
      "Requirement already satisfied: triton==2.0.0 in /home/ben/.local/lib/python3.10/site-packages (from torch>=1.10.0->pytorch-lightning==1.9.0) (2.0.0)\n",
      "Requirement already satisfied: nvidia-nvtx-cu11==11.7.91 in /home/ben/.local/lib/python3.10/site-packages (from torch>=1.10.0->pytorch-lightning==1.9.0) (11.7.91)\n",
      "Requirement already satisfied: nvidia-curand-cu11==10.2.10.91 in /home/ben/.local/lib/python3.10/site-packages (from torch>=1.10.0->pytorch-lightning==1.9.0) (10.2.10.91)\n",
      "Requirement already satisfied: nvidia-cublas-cu11==11.10.3.66 in /home/ben/.local/lib/python3.10/site-packages (from torch>=1.10.0->pytorch-lightning==1.9.0) (11.10.3.66)\n",
      "Requirement already satisfied: wheel in /usr/lib/python3/dist-packages (from nvidia-cublas-cu11==11.10.3.66->torch>=1.10.0->pytorch-lightning==1.9.0) (0.37.1)\n",
      "Requirement already satisfied: cmake in /home/ben/.local/lib/python3.10/site-packages (from triton==2.0.0->torch>=1.10.0->pytorch-lightning==1.9.0) (3.26.1)\n",
      "Requirement already satisfied: lit in /home/ben/.local/lib/python3.10/site-packages (from triton==2.0.0->torch>=1.10.0->pytorch-lightning==1.9.0) (16.0.0)\n",
      "Requirement already satisfied: multidict<7.0,>=4.5 in /home/ben/.local/lib/python3.10/site-packages (from aiohttp!=4.0.0a0,!=4.0.0a1->fsspec[http]>2021.06.0->pytorch-lightning==1.9.0) (6.0.4)\n",
      "Requirement already satisfied: async-timeout<5.0,>=4.0.0a3 in /home/ben/.local/lib/python3.10/site-packages (from aiohttp!=4.0.0a0,!=4.0.0a1->fsspec[http]>2021.06.0->pytorch-lightning==1.9.0) (4.0.2)\n",
      "Requirement already satisfied: aiosignal>=1.1.2 in /home/ben/.local/lib/python3.10/site-packages (from aiohttp!=4.0.0a0,!=4.0.0a1->fsspec[http]>2021.06.0->pytorch-lightning==1.9.0) (1.3.1)\n",
      "Requirement already satisfied: yarl<2.0,>=1.0 in /home/ben/.local/lib/python3.10/site-packages (from aiohttp!=4.0.0a0,!=4.0.0a1->fsspec[http]>2021.06.0->pytorch-lightning==1.9.0) (1.8.2)\n",
      "Requirement already satisfied: attrs>=17.3.0 in /usr/lib/python3/dist-packages (from aiohttp!=4.0.0a0,!=4.0.0a1->fsspec[http]>2021.06.0->pytorch-lightning==1.9.0) (21.2.0)\n",
      "Requirement already satisfied: charset-normalizer<4.0,>=2.0 in /home/ben/.local/lib/python3.10/site-packages (from aiohttp!=4.0.0a0,!=4.0.0a1->fsspec[http]>2021.06.0->pytorch-lightning==1.9.0) (3.1.0)\n",
      "Requirement already satisfied: frozenlist>=1.1.1 in /home/ben/.local/lib/python3.10/site-packages (from aiohttp!=4.0.0a0,!=4.0.0a1->fsspec[http]>2021.06.0->pytorch-lightning==1.9.0) (1.3.3)\n",
      "Requirement already satisfied: smmap<6,>=3.0.1 in /home/ben/.local/lib/python3.10/site-packages (from gitdb<5,>=4.0.1->GitPython!=3.1.29,>=1.0.0->wandb) (5.0.0)\n",
      "Requirement already satisfied: mpmath>=0.19 in /home/ben/.local/lib/python3.10/site-packages (from sympy->torch>=1.10.0->pytorch-lightning==1.9.0) (1.3.0)\n",
      "Requirement already satisfied: idna>=2.0 in /usr/lib/python3/dist-packages (from yarl<2.0,>=1.0->aiohttp!=4.0.0a0,!=4.0.0a1->fsspec[http]>2021.06.0->pytorch-lightning==1.9.0) (3.3)\n",
      "Installing collected packages: deepspeed\n",
      "  Attempting uninstall: deepspeed\n",
      "    Found existing installation: deepspeed 0.7.0\n",
      "    Uninstalling deepspeed-0.7.0:\n",
      "      Successfully uninstalled deepspeed-0.7.0\n",
      "Successfully installed deepspeed-0.8.3\n",
      "Note: you may need to restart the kernel to use updated packages.\n"
     ]
    }
   ],
   "source": [
    "pip install pytorch-lightning==1.9.0 deepspeed==0.8.3 transformers wandb ninja"
   ]
  },
  {
   "cell_type": "code",
   "execution_count": 26,
   "metadata": {
    "vscode": {
     "languageId": "shellscript"
    }
   },
   "outputs": [
    {
     "name": "stderr",
     "output_type": "stream",
     "text": [
      "960.57s - pydevd: Sending message related to process being replaced timed-out after 5 seconds\n"
     ]
    },
    {
     "name": "stdout",
     "output_type": "stream",
     "text": [
      "/usr/lib/python3/dist-packages/pkg_resources/__init__.py:116: PkgResourcesDeprecationWarning: 0.1.43ubuntu1 is an invalid version and will not be supported in a future release\n",
      "  warnings.warn(\n",
      "/usr/lib/python3/dist-packages/pkg_resources/__init__.py:116: PkgResourcesDeprecationWarning: 1.1build1 is an invalid version and will not be supported in a future release\n",
      "  warnings.warn(\n",
      "########## work in progress ##########\n",
      "\n",
      "############################################################################\n",
      "#\n",
      "# RWKV-4 BF16 on 1x1 GPU, bsz 1x1x2=2, deepspeed_stage_2 \n",
      "#\n",
      "# Data =  (utf-8), ProjDir = out\n",
      "#\n",
      "# Epoch = 0 to 999 (will continue afterwards), save every 5 epoch\n",
      "#\n",
      "# Each \"epoch\" = 1000 steps, 2000 samples, 2048000 tokens\n",
      "#\n",
      "# Model = 24 n_layer, 1024 n_embd, 1024 ctx_len\n",
      "# LoRA = enabled, 8 r, 16.0 alpha, 0.01 dropout, on att,ln,time\n",
      "#\n",
      "# Adam = lr 0.0001 to 0.0001, warmup 0 steps, beta (0.9, 0.999), eps 1e-08\n",
      "#\n",
      "# Found torch 2.0.0+cu117, recommend 1.13.1+cu117 or newer\n",
      "# Found deepspeed 0.8.3, recommend 0.7.0 (faster than newer versions)\n",
      "# Found pytorch_lightning 1.9.0, recommend 1.9.1 or newer\n",
      "#\n",
      "############################################################################\n",
      "\n",
      "{'load_model': '', 'wandb': '', 'proj_dir': 'out', 'random_seed': -1, 'data_file': '', 'data_type': 'utf-8', 'vocab_size': 50277, 'ctx_len': 1024, 'epoch_steps': 1000, 'epoch_count': 1000, 'epoch_begin': 0, 'epoch_save': 5, 'micro_bsz': 2, 'n_layer': 24, 'n_embd': 1024, 'dim_att': 1024, 'dim_ffn': 4096, 'pre_ffn': 0, 'head_qk': 0, 'tiny_att_dim': 0, 'tiny_att_layer': -999, 'lr_init': 0.0001, 'lr_final': 0.0001, 'warmup_steps': 0, 'beta1': 0.9, 'beta2': 0.999, 'adam_eps': 1e-08, 'grad_cp': 0, 'my_pile_version': 1, 'my_pile_stage': 0, 'my_pile_shift': -1, 'my_pile_edecay': 0, 'layerwise_lr': 1, 'ds_bucket_mb': 200, 'my_img_version': 0, 'my_img_size': 0, 'my_img_bit': 0, 'my_img_clip': 'x', 'my_img_clip_scale': 1, 'my_img_l1_scale': 0, 'my_img_encoder': 'x', 'my_sample_len': 0, 'my_ffn_shift': 1, 'my_att_shift': 1, 'my_pos_emb': 0, 'load_partial': 0, 'magic_prime': 0, 'my_qa_mask': 0, 'my_testing': '', 'lora': True, 'lora_load': '', 'lora_r': 8, 'lora_alpha': 16.0, 'lora_dropout': 0.01, 'lora_parts': 'att,ln,time', 'logger': False, 'enable_checkpointing': False, 'default_root_dir': None, 'gradient_clip_val': 1.0, 'gradient_clip_algorithm': None, 'num_nodes': 1, 'num_processes': None, 'devices': '1', 'gpus': None, 'auto_select_gpus': None, 'tpu_cores': None, 'ipus': None, 'enable_progress_bar': True, 'overfit_batches': 0.0, 'track_grad_norm': -1, 'check_val_every_n_epoch': 100000000000000000000, 'fast_dev_run': False, 'accumulate_grad_batches': None, 'max_epochs': -1, 'min_epochs': None, 'max_steps': -1, 'min_steps': None, 'max_time': None, 'limit_train_batches': None, 'limit_val_batches': None, 'limit_test_batches': None, 'limit_predict_batches': None, 'val_check_interval': None, 'log_every_n_steps': 100000000000000000000, 'accelerator': 'gpu', 'strategy': 'deepspeed_stage_2', 'sync_batchnorm': False, 'precision': 'bf16', 'enable_model_summary': True, 'num_sanity_val_steps': 0, 'resume_from_checkpoint': None, 'profiler': None, 'benchmark': None, 'reload_dataloaders_every_n_epochs': 0, 'auto_lr_find': False, 'replace_sampler_ddp': False, 'detect_anomaly': False, 'auto_scale_batch_size': False, 'plugins': None, 'amp_backend': None, 'amp_level': None, 'move_metrics_to_cpu': False, 'multiple_trainloader_mode': 'max_size_cycle', 'inference_mode': True, 'my_timestamp': '2023-03-27-15-02-18', 'betas': (0.9, 0.999), 'real_bsz': 2, 'run_name': '50277 ctx1024 L24 D1024'}\n",
      "\n",
      "RWKV_MY_TESTING \n",
      "Using /home/ben/.cache/torch_extensions/py310_cu117 as PyTorch extensions root...\n",
      "Creating extension directory /home/ben/.cache/torch_extensions/py310_cu117/wkv_1024_bf16...\n",
      "Detected CUDA files, patching ldflags\n",
      "Traceback (most recent call last):\n",
      "  File \"/home/ben/RWKV-LM-LoRA/RWKV-v4neo/train.py\", line 289, in <module>\n",
      "    from src.trainer import train_callback, generate_init_weight\n",
      "  File \"/home/ben/RWKV-LM-LoRA/RWKV-v4neo/src/trainer.py\", line 6, in <module>\n",
      "    from .model import LORA_CONFIG\n",
      "  File \"/home/ben/RWKV-LM-LoRA/RWKV-v4neo/src/model.py\", line 56, in <module>\n",
      "    wkv_cuda = load(name=f\"wkv_{T_MAX}_bf16\", sources=[\"cuda/wkv_op_bf16.cpp\", \"cuda/wkv_cuda_bf16.cu\"], verbose=True, extra_cuda_cflags=[\"-t 4\", \"-std=c++17\", \"-res-usage\", \"--maxrregcount 60\", \"--use_fast_math\", \"-O3\", \"-Xptxas -O3\", \"--extra-device-vectorization\", f\"-DTmax={T_MAX}\"])\n",
      "  File \"/home/ben/.local/lib/python3.10/site-packages/torch/utils/cpp_extension.py\", line 1284, in load\n",
      "    return _jit_compile(\n",
      "  File \"/home/ben/.local/lib/python3.10/site-packages/torch/utils/cpp_extension.py\", line 1509, in _jit_compile\n",
      "    _write_ninja_file_and_build_library(\n",
      "  File \"/home/ben/.local/lib/python3.10/site-packages/torch/utils/cpp_extension.py\", line 1601, in _write_ninja_file_and_build_library\n",
      "    extra_ldflags = _prepare_ldflags(\n",
      "  File \"/home/ben/.local/lib/python3.10/site-packages/torch/utils/cpp_extension.py\", line 1699, in _prepare_ldflags\n",
      "    extra_ldflags.append(f'-L{_join_cuda_home(\"lib64\")}')\n",
      "  File \"/home/ben/.local/lib/python3.10/site-packages/torch/utils/cpp_extension.py\", line 2223, in _join_cuda_home\n",
      "    raise EnvironmentError('CUDA_HOME environment variable is not set. '\n",
      "OSError: CUDA_HOME environment variable is not set. Please set it to your CUDA install root.\n"
     ]
    }
   ],
   "source": [
    "!python3 train.py --vocab_size 50277 --ctx_len 1024 --epoch_steps 1000 --epoch_count 1000 \\\n",
    "    --epoch_begin 0 --epoch_save 5 --micro_bsz 2 --n_layer 24 --n_embd 1024 --pre_ffn 0 --head_qk 0 \\\n",
    "    --lr_init 1e-4 --lr_final 1e-4 --warmup_steps 0 --beta1 0.9 --beta2 0.999 --adam_eps 1e-8 \\\n",
    "    --accelerator gpu --devices 1 --precision bf16 --strategy deepspeed_stage_2 --grad_cp 0 \\\n",
    "    --lora --lora_r 8 --lora_alpha 16 --lora_dropout 0.01"
   ]
  }
 ],
 "metadata": {
  "kernelspec": {
   "display_name": "Python 3",
   "language": "python",
   "name": "python3"
  },
  "language_info": {
   "codemirror_mode": {
    "name": "ipython",
    "version": 3
   },
   "file_extension": ".py",
   "mimetype": "text/x-python",
   "name": "python",
   "nbconvert_exporter": "python",
   "pygments_lexer": "ipython3",
   "version": "3.10.6"
  },
  "orig_nbformat": 4
 },
 "nbformat": 4,
 "nbformat_minor": 2
}
